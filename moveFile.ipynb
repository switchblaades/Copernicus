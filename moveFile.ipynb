import os
import shutil

source_path = os.getcwd()


for root, dirs, files in os.walk(source_path):
    if 'GRANULE' in dirs:
        granule_path = os.path.join(root, 'GRANULE')
        for subroot, subdirs, subfiles in os.walk(granule_path):
            l2a_dirs = [d for d in subdirs if d.startswith('L2A')]
            for l2a_dir in l2a_dirs:
                img_data_path = os.path.join(subroot, l2a_dir, 'IMG_DATA')
                r10m_path = os.path.join(img_data_path, 'R10m')
                if os.path.exists(r10m_path):
                    for r10m_file in os.listdir(r10m_path):
                        if 'TCI' in r10m_file:
                            shutil.move(os.path.join(r10m_path, r10m_file), source_path)
