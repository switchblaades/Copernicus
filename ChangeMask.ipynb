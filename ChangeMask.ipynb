{
 "cells": [
  {
   "cell_type": "code",
   "execution_count": 1,
   "id": "f0de5154-5cfa-4497-b465-6c9323b3afd3",
   "metadata": {},
   "outputs": [],
   "source": [
    "import rasterio\n",
    "import os\n",
    "from glob import glob\n",
    "import numpy.ma as ma\n",
    "import numpy as np\n",
    "import os\n",
    "from itertools import product\n",
    "from rasterio import windows\n",
    "from rasterio.windows import get_data_window"
   ]
  },
  {
   "cell_type": "code",
   "execution_count": 2,
   "id": "fb72d16f-8889-4fb1-9ae7-02a1d01e3a06",
   "metadata": {},
   "outputs": [
    {
     "data": {
      "text/plain": [
       "['E:\\\\workspace\\\\workWithRaster\\\\mergeClasses\\\\test1.tif']"
      ]
     },
     "execution_count": 2,
     "metadata": {},
     "output_type": "execute_result"
    }
   ],
   "source": [
    "pathToTiff = r'E:\\workspace\\workWithRaster\\mergeClasses'\n",
    "tiffFile = glob(os.path.join(pathToTiff, '*.tif'))\n",
    "tiffFile\n"
   ]
  },
  {
   "cell_type": "code",
   "execution_count": null,
   "id": "925fd012-256e-401c-8eff-b7580845ca85",
   "metadata": {},
   "outputs": [],
   "source": [
    "print(tiffFile[0])\n",
    "with rasterio.open(tiffFile[0]) as src0:\n",
    "        meta = src0.meta\n",
    "        arr = src0.read()\n",
    "        \n",
    "meta.update({\"driver\": \"GTiff\",\n",
    "             \"compress\": 'lzw'})"
   ]
  },
  {
   "cell_type": "code",
   "execution_count": null,
   "id": "5be6f9c0-3280-4b69-87bd-1350912638b4",
   "metadata": {},
   "outputs": [],
   "source": [
    "%%time\n",
    "arr[(1 < arr) & (arr <= 9) | (15 <= arr) & (arr <= 17) | (21 == arr)] = 2"
   ]
  },
  {
   "cell_type": "code",
   "execution_count": null,
   "id": "0deebc18-6cbf-481f-8940-18fdc4ef0861",
   "metadata": {},
   "outputs": [],
   "source": [
    "np.unique(arr)"
   ]
  },
  {
   "cell_type": "code",
   "execution_count": null,
   "id": "33daa224-a21b-4941-a55c-2c1fde4bd10f",
   "metadata": {},
   "outputs": [],
   "source": [
    "%%time\n",
    "fileName = 'LandCover2019.tif'\n",
    "with rasterio.open(os.path.join(pathToTiff, fileName), \"w\", **meta) as dest:\n",
    "    dest.write(arr)"
   ]
  },
  {
   "cell_type": "code",
   "execution_count": null,
   "id": "8eed186d-40e2-43b0-b2f7-a74781e9940c",
   "metadata": {},
   "outputs": [],
   "source": []
  }
 ],
 "metadata": {
  "kernelspec": {
   "display_name": "Python 3 (ipykernel)",
   "language": "python",
   "name": "python3"
  },
  "language_info": {
   "codemirror_mode": {
    "name": "ipython",
    "version": 3
   },
   "file_extension": ".py",
   "mimetype": "text/x-python",
   "name": "python",
   "nbconvert_exporter": "python",
   "pygments_lexer": "ipython3",
   "version": "3.7.15"
  }
 },
 "nbformat": 4,
 "nbformat_minor": 5
}
