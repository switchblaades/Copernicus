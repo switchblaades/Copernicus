{
 "cells": [
  {
   "cell_type": "code",
   "execution_count": 1,
   "id": "f0de5154-5cfa-4497-b465-6c9323b3afd3",
   "metadata": {},
   "outputs": [],
   "source": [
    "import rasterio\n",
    "import os\n",
    "from glob import glob\n",
    "import numpy.ma as ma\n",
    "import numpy as np\n",
    "import os\n",
    "from itertools import product\n",
    "from rasterio import windows\n",
    "from rasterio.windows import get_data_window"
   ]
  },
  {
   "cell_type": "code",
   "execution_count": 2,
   "id": "fb72d16f-8889-4fb1-9ae7-02a1d01e3a06",
   "metadata": {},
   "outputs": [
    {
     "data": {
      "text/plain": [
       "['E:\\\\workspace\\\\workWithRaster\\\\mergeClasses\\\\test1.tif']"
      ]
     },
     "execution_count": 2,
     "metadata": {},
     "output_type": "execute_result"
    }
   ],
   "source": [
    "pathToTiff = r'E:\\workspace\\workWithRaster\\mergeClasses'\n",
    "tiffFile = glob(os.path.join(pathToTiff, '*.tif'))\n",
    "tiffFile\n"
   ]
  },
  {
   "cell_type": "code",
   "execution_count": 3,
   "id": "eed2911f-1ad7-4d34-9782-f379d2b9622c",
   "metadata": {},
   "outputs": [],
   "source": [
    "in_path = pathToTiff\n",
    "input_filename = tiffFile[0]\n",
    "\n",
    "out_path = pathToTiff\n",
    "window = None\n",
    "output_filename = os.path.join(pathToTiff, f'res{window}')"
   ]
  },
  {
   "cell_type": "code",
   "execution_count": 4,
   "id": "6795184b-1b21-4ede-ae82-558f8e732fe7",
   "metadata": {},
   "outputs": [],
   "source": [
    "def get_tiles(ds, width=2048, height=2048):\n",
    "    nols, nrows = ds.meta['width'], ds.meta['height']\n",
    "    offsets = product(range(0, nols, width), range(0, nrows, height))\n",
    "    big_window = windows.Window(col_off=0, row_off=0, width=nols, height=nrows)\n",
    "    #print(type(big_window))\n",
    "    print(offsets)\n",
    "    for col_off, row_off in  offsets:\n",
    "        window =windows.Window(col_off=col_off, row_off=row_off, width=width, height=height).intersection(big_window)\n",
    "        #window[(1 < window) & (window <= 9) | (15 <= window) & (window <= 17) | (21 == window)] = 2\n",
    "        \n",
    "        transform = windows.transform(window, ds.transform)\n",
    "        \n",
    "        yield window, transform"
   ]
  },
  {
   "cell_type": "code",
   "execution_count": null,
   "id": "128eeb63-abd7-4fba-8207-a3d3db559033",
   "metadata": {},
   "outputs": [],
   "source": [
    "with rasterio.open(filepath) as src:\n",
    "    rst = src.read(1, window=from_bounds(left, bottom, right, top, src.transform))"
   ]
  },
  {
   "cell_type": "code",
   "execution_count": 30,
   "id": "e1f45fc8-93d5-41ed-adda-f2e4adb553fa",
   "metadata": {},
   "outputs": [
    {
     "name": "stdout",
     "output_type": "stream",
     "text": [
      "<itertools.product object at 0x0000015286ED1728>\n",
      "(2048, 2048)\n",
      "(2048, 2048)\n",
      "(299, 2048)\n",
      "(2048, 2048)\n",
      "(2048, 2048)\n",
      "(299, 2048)\n",
      "(2048, 2048)\n",
      "(2048, 2048)\n",
      "(299, 2048)\n",
      "(2048, 1616)\n",
      "(2048, 1616)\n",
      "(299, 1616)\n"
     ]
    }
   ],
   "source": [
    "counter = 0\n",
    "with rasterio.open(os.path.join(in_path, input_filename)) as inds:\n",
    "    tile_width, tile_height = 2048, 2048\n",
    "\n",
    "    meta = inds.meta.copy()\n",
    "\n",
    "    meta.update({\"driver\": \"GTiff\",\n",
    "             \"compress\": 'lzw'})\n",
    "    \n",
    "    for window, transform in get_tiles(inds):\n",
    "        counter += 1\n",
    "        meta['transform'] = transform\n",
    "        meta['width'], meta['height'] = window.width, window.height\n",
    "        \n",
    "        newArr = inds.read(1, window=window)\n",
    "        print(newArr.shape)\n",
    "        newArr[(1 < newArr) & (newArr <= 9) | (15 <= newArr) & (newArr <= 17) | (21 == newArr)] = 2\n",
    "        \n",
    "       # outpath = os.path.join(out_path,output_filename.format(int(window.col_off), int(window.row_off)))\n",
    "        with rasterio.open(os.path.join(pathToTiff, f'res{counter}.tif'), 'w', **meta) as outds:\n",
    "            \n",
    "            #newArr = np.array(window)\n",
    "            #newArr[(1 < newArr) & (newArr <= 9) | (15 <= newArr) & (newArr <= 17) | (21 == newArr)] = 2\n",
    "            \n",
    "             \n",
    "            #outds.write(inds.read(window=newArr))\n",
    "            \n",
    "            #outds.write(newArr)\n",
    "            outds.write(inds.read(window=window))\n"
   ]
  },
  {
   "cell_type": "code",
   "execution_count": null,
   "id": "925fd012-256e-401c-8eff-b7580845ca85",
   "metadata": {},
   "outputs": [],
   "source": [
    "print(tiffFile[0])\n",
    "with rasterio.open(tiffFile[0]) as src0:\n",
    "        meta = src0.meta\n",
    "        arr = src0.read()\n",
    "        \n",
    "meta.update({\"driver\": \"GTiff\",\n",
    "             \"compress\": 'lzw'})"
   ]
  },
  {
   "cell_type": "code",
   "execution_count": null,
   "id": "5be6f9c0-3280-4b69-87bd-1350912638b4",
   "metadata": {},
   "outputs": [],
   "source": [
    "%%time\n",
    "arr[(1 < arr) & (arr <= 9) | (15 <= arr) & (arr <= 17) | (21 == arr)] = 2"
   ]
  },
  {
   "cell_type": "code",
   "execution_count": null,
   "id": "0deebc18-6cbf-481f-8940-18fdc4ef0861",
   "metadata": {},
   "outputs": [],
   "source": [
    "np.unique(arr)"
   ]
  },
  {
   "cell_type": "code",
   "execution_count": null,
   "id": "33daa224-a21b-4941-a55c-2c1fde4bd10f",
   "metadata": {},
   "outputs": [],
   "source": [
    "%%time\n",
    "fileName = 'LandCover2019.tif'\n",
    "with rasterio.open(os.path.join(pathToTiff, fileName), \"w\", **meta) as dest:\n",
    "    dest.write(arr)"
   ]
  },
  {
   "cell_type": "code",
   "execution_count": null,
   "id": "8eed186d-40e2-43b0-b2f7-a74781e9940c",
   "metadata": {},
   "outputs": [],
   "source": []
  }
 ],
 "metadata": {
  "kernelspec": {
   "display_name": "Python 3 (ipykernel)",
   "language": "python",
   "name": "python3"
  },
  "language_info": {
   "codemirror_mode": {
    "name": "ipython",
    "version": 3
   },
   "file_extension": ".py",
   "mimetype": "text/x-python",
   "name": "python",
   "nbconvert_exporter": "python",
   "pygments_lexer": "ipython3",
   "version": "3.7.11"
  }
 },
 "nbformat": 4,
 "nbformat_minor": 5
}
