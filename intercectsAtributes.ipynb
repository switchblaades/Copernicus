{
 "cells": [
  {
   "cell_type": "code",
   "execution_count": 3,
   "id": "b6d15794",
   "metadata": {},
   "outputs": [],
   "source": [
    "import fiona\n",
    "from shapely.geometry import shape\n",
    "from copy import deepcopy\n",
    "from glob import glob\n",
    "import os\n"
   ]
  },
  {
   "cell_type": "code",
   "execution_count": 4,
   "id": "692dd0d4-abfa-4029-8885-39ff140fe939",
   "metadata": {},
   "outputs": [
    {
     "data": {
      "text/plain": [
       "['E:\\\\workspace\\\\Untitled Folder 1\\\\test1\\\\fix_map_vector_p1.shp',\n",
       " 'E:\\\\workspace\\\\Untitled Folder 1\\\\test1\\\\sale_ppoint_Jan9_2023_36N.shp']"
      ]
     },
     "execution_count": 4,
     "metadata": {},
     "output_type": "execute_result"
    }
   ],
   "source": [
    "pathTOshp = r'E:\\workspace\\Untitled Folder 1\\test1'\n",
    "shapes = glob(os.path.join(pathTOshp, '*.shp'))\n",
    "shapes"
   ]
  },
  {
   "cell_type": "code",
   "execution_count": 5,
   "id": "60c456ed-b802-425e-9cea-ed662d454855",
   "metadata": {},
   "outputs": [
    {
     "ename": "IndexError",
     "evalue": "list index out of range",
     "output_type": "error",
     "traceback": [
      "\u001b[1;31m---------------------------------------------------------------------------\u001b[0m",
      "\u001b[1;31mIndexError\u001b[0m                                Traceback (most recent call last)",
      "\u001b[1;32m~\\AppData\\Local\\Temp\\ipykernel_7692\\1327509498.py\u001b[0m in \u001b[0;36m<module>\u001b[1;34m\u001b[0m\n\u001b[1;32m----> 1\u001b[1;33m \u001b[0mpoints\u001b[0m \u001b[1;33m=\u001b[0m \u001b[0mshapes\u001b[0m\u001b[1;33m[\u001b[0m\u001b[1;36m2\u001b[0m\u001b[1;33m]\u001b[0m\u001b[1;33m\u001b[0m\u001b[1;33m\u001b[0m\u001b[0m\n\u001b[0m\u001b[0;32m      2\u001b[0m \u001b[0mpolygons\u001b[0m \u001b[1;33m=\u001b[0m \u001b[0mshapes\u001b[0m\u001b[1;33m[\u001b[0m\u001b[1;36m3\u001b[0m\u001b[1;33m]\u001b[0m\u001b[1;33m\u001b[0m\u001b[1;33m\u001b[0m\u001b[0m\n",
      "\u001b[1;31mIndexError\u001b[0m: list index out of range"
     ]
    }
   ],
   "source": [
    "points = shapes[2]\n",
    "polygons = shapes[3]\n"
   ]
  },
  {
   "cell_type": "code",
   "execution_count": null,
   "id": "c1bc4bb5-8a10-4050-803f-e17272effaff",
   "metadata": {},
   "outputs": [],
   "source": []
  },
  {
   "cell_type": "code",
   "execution_count": null,
   "id": "7ad0d29a-166e-4b4f-87ba-267dc795d129",
   "metadata": {},
   "outputs": [],
   "source": [
    "%%time\n",
    "\n",
    "with fiona.open(polygons, \"r\") as n: \n",
    "\n",
    "    with fiona.open(points, \"r\") as s:\n",
    "\n",
    "        # create a schema for the attributes\n",
    "        outSchema =  deepcopy(s.schema)\n",
    "        outSchema['properties'].update(n.schema['properties'])\n",
    "\n",
    "        with fiona.open (\"points_p1.shp\", \"w\", s.driver, outSchema, s.crs) as output:\n",
    "\n",
    "            for school in s: \n",
    "                for neighborhood in n:\n",
    "                    # check if point is in polygon and set attribute\n",
    "                    if shape(school['geometry']).within(shape(neighborhood['geometry'])):  \n",
    "                        school['properties']['id'] = neighborhood['properties']['id', 'class2']\n",
    "                    # write out\n",
    "                        output.write({                                 \n",
    "                            'properties': school['properties'], \n",
    "                            'geometry': school['geometry']\n",
    "                        })\n"
   ]
  },
  {
   "cell_type": "code",
   "execution_count": 2,
   "id": "da73b05d-ef14-4442-8222-2f730a71d629",
   "metadata": {},
   "outputs": [
    {
     "data": {
      "text/plain": [
       "(['E:\\\\work\\\\distance\\\\data\\\\fixedclear\\\\fix_map_vector_p1.shp',\n",
       "  'E:\\\\work\\\\distance\\\\data\\\\fixedclear\\\\fix_map_vector_p2.shp'],\n",
       " ['E:\\\\workspace\\\\Untitled Folder 1\\\\latlonPoints\\\\sale_latlong_Jan9_2023_4326.shp'])"
      ]
     },
     "execution_count": 2,
     "metadata": {},
     "output_type": "execute_result"
    }
   ],
   "source": [
    "workPath = r'E:\\workspace\\Untitled Folder 1\\readyData\\sale_latlong_Jan9'\n",
    "pathTOpolyg = r'E:\\work\\distance\\data\\fixedclear'\n",
    "shapes = glob(os.path.join(pathTOpolyg, '*.shp'))\n",
    "pathToPoints = r'E:\\workspace\\Untitled Folder 1\\latlonPoints'\n",
    "points = glob(os.path.join(pathToPoints, '*.shp'))\n",
    "shapes, points\n"
   ]
  },
  {
   "cell_type": "code",
   "execution_count": 5,
   "id": "8807d89b-01f9-4afd-a684-b56c90d8ef87",
   "metadata": {},
   "outputs": [
    {
     "name": "stdout",
     "output_type": "stream",
     "text": [
      "E:\\work\\distance\\data\\fixedclear\\fix_map_vector_p1.shp\n",
      "E:\\workspace\\Untitled Folder 1\\latlonPoints\\sale_latlong_Jan9_2023_4326.shp\n"
     ]
    },
    {
     "ename": "KeyboardInterrupt",
     "evalue": "",
     "output_type": "error",
     "traceback": [
      "\u001b[1;31m---------------------------------------------------------------------------\u001b[0m",
      "\u001b[1;31mKeyboardInterrupt\u001b[0m                         Traceback (most recent call last)",
      "\u001b[1;32m<timed exec>\u001b[0m in \u001b[0;36m<module>\u001b[1;34m\u001b[0m\n",
      "\u001b[1;32m~\\Anaconda3\\envs\\python37\\lib\\site-packages\\shapely\\geometry\\geo.py\u001b[0m in \u001b[0;36mshape\u001b[1;34m(context)\u001b[0m\n\u001b[0;32m    104\u001b[0m         \u001b[1;32mreturn\u001b[0m \u001b[0m_empty_shape_for_no_coordinates\u001b[0m\u001b[1;33m(\u001b[0m\u001b[0mgeom_type\u001b[0m\u001b[1;33m)\u001b[0m\u001b[1;33m\u001b[0m\u001b[1;33m\u001b[0m\u001b[0m\n\u001b[0;32m    105\u001b[0m     \u001b[1;32melif\u001b[0m \u001b[0mgeom_type\u001b[0m \u001b[1;33m==\u001b[0m \u001b[1;34m\"point\"\u001b[0m\u001b[1;33m:\u001b[0m\u001b[1;33m\u001b[0m\u001b[1;33m\u001b[0m\u001b[0m\n\u001b[1;32m--> 106\u001b[1;33m         \u001b[1;32mreturn\u001b[0m \u001b[0mPoint\u001b[0m\u001b[1;33m(\u001b[0m\u001b[0mob\u001b[0m\u001b[1;33m[\u001b[0m\u001b[1;34m\"coordinates\"\u001b[0m\u001b[1;33m]\u001b[0m\u001b[1;33m)\u001b[0m\u001b[1;33m\u001b[0m\u001b[1;33m\u001b[0m\u001b[0m\n\u001b[0m\u001b[0;32m    107\u001b[0m     \u001b[1;32melif\u001b[0m \u001b[0mgeom_type\u001b[0m \u001b[1;33m==\u001b[0m \u001b[1;34m\"linestring\"\u001b[0m\u001b[1;33m:\u001b[0m\u001b[1;33m\u001b[0m\u001b[1;33m\u001b[0m\u001b[0m\n\u001b[0;32m    108\u001b[0m         \u001b[1;32mreturn\u001b[0m \u001b[0mLineString\u001b[0m\u001b[1;33m(\u001b[0m\u001b[0mob\u001b[0m\u001b[1;33m[\u001b[0m\u001b[1;34m\"coordinates\"\u001b[0m\u001b[1;33m]\u001b[0m\u001b[1;33m)\u001b[0m\u001b[1;33m\u001b[0m\u001b[1;33m\u001b[0m\u001b[0m\n",
      "\u001b[1;32m~\\Anaconda3\\envs\\python37\\lib\\site-packages\\shapely\\geometry\\point.py\u001b[0m in \u001b[0;36m__init__\u001b[1;34m(self, *args)\u001b[0m\n\u001b[0;32m     49\u001b[0m         \u001b[1;32mif\u001b[0m \u001b[0mlen\u001b[0m\u001b[1;33m(\u001b[0m\u001b[0margs\u001b[0m\u001b[1;33m)\u001b[0m \u001b[1;33m>\u001b[0m \u001b[1;36m0\u001b[0m\u001b[1;33m:\u001b[0m\u001b[1;33m\u001b[0m\u001b[1;33m\u001b[0m\u001b[0m\n\u001b[0;32m     50\u001b[0m             \u001b[1;32mif\u001b[0m \u001b[0mlen\u001b[0m\u001b[1;33m(\u001b[0m\u001b[0margs\u001b[0m\u001b[1;33m)\u001b[0m \u001b[1;33m==\u001b[0m \u001b[1;36m1\u001b[0m\u001b[1;33m:\u001b[0m\u001b[1;33m\u001b[0m\u001b[1;33m\u001b[0m\u001b[0m\n\u001b[1;32m---> 51\u001b[1;33m                 \u001b[0mgeom\u001b[0m\u001b[1;33m,\u001b[0m \u001b[0mn\u001b[0m \u001b[1;33m=\u001b[0m \u001b[0mgeos_point_from_py\u001b[0m\u001b[1;33m(\u001b[0m\u001b[0margs\u001b[0m\u001b[1;33m[\u001b[0m\u001b[1;36m0\u001b[0m\u001b[1;33m]\u001b[0m\u001b[1;33m)\u001b[0m\u001b[1;33m\u001b[0m\u001b[1;33m\u001b[0m\u001b[0m\n\u001b[0m\u001b[0;32m     52\u001b[0m             \u001b[1;32melif\u001b[0m \u001b[0mlen\u001b[0m\u001b[1;33m(\u001b[0m\u001b[0margs\u001b[0m\u001b[1;33m)\u001b[0m \u001b[1;33m>\u001b[0m \u001b[1;36m3\u001b[0m\u001b[1;33m:\u001b[0m\u001b[1;33m\u001b[0m\u001b[1;33m\u001b[0m\u001b[0m\n\u001b[0;32m     53\u001b[0m                 raise TypeError(\n",
      "\u001b[1;32m~\\Anaconda3\\envs\\python37\\lib\\site-packages\\shapely\\geometry\\point.py\u001b[0m in \u001b[0;36mgeos_point_from_py\u001b[1;34m(ob, update_geom, update_ndim)\u001b[0m\n\u001b[0;32m    277\u001b[0m     \u001b[1;31m# Because of a bug in the GEOS C API, always set X before Y\u001b[0m\u001b[1;33m\u001b[0m\u001b[1;33m\u001b[0m\u001b[1;33m\u001b[0m\u001b[0m\n\u001b[0;32m    278\u001b[0m     \u001b[0mlgeos\u001b[0m\u001b[1;33m.\u001b[0m\u001b[0mGEOSCoordSeq_setX\u001b[0m\u001b[1;33m(\u001b[0m\u001b[0mcs\u001b[0m\u001b[1;33m,\u001b[0m \u001b[1;36m0\u001b[0m\u001b[1;33m,\u001b[0m \u001b[0mdx\u001b[0m\u001b[1;33m)\u001b[0m\u001b[1;33m\u001b[0m\u001b[1;33m\u001b[0m\u001b[0m\n\u001b[1;32m--> 279\u001b[1;33m     \u001b[0mlgeos\u001b[0m\u001b[1;33m.\u001b[0m\u001b[0mGEOSCoordSeq_setY\u001b[0m\u001b[1;33m(\u001b[0m\u001b[0mcs\u001b[0m\u001b[1;33m,\u001b[0m \u001b[1;36m0\u001b[0m\u001b[1;33m,\u001b[0m \u001b[0mdy\u001b[0m\u001b[1;33m)\u001b[0m\u001b[1;33m\u001b[0m\u001b[1;33m\u001b[0m\u001b[0m\n\u001b[0m\u001b[0;32m    280\u001b[0m     \u001b[1;32mif\u001b[0m \u001b[0mn\u001b[0m \u001b[1;33m==\u001b[0m \u001b[1;36m3\u001b[0m\u001b[1;33m:\u001b[0m\u001b[1;33m\u001b[0m\u001b[1;33m\u001b[0m\u001b[0m\n\u001b[0;32m    281\u001b[0m         \u001b[0mlgeos\u001b[0m\u001b[1;33m.\u001b[0m\u001b[0mGEOSCoordSeq_setZ\u001b[0m\u001b[1;33m(\u001b[0m\u001b[0mcs\u001b[0m\u001b[1;33m,\u001b[0m \u001b[1;36m0\u001b[0m\u001b[1;33m,\u001b[0m \u001b[0mdz\u001b[0m\u001b[1;33m)\u001b[0m\u001b[1;33m\u001b[0m\u001b[1;33m\u001b[0m\u001b[0m\n",
      "\u001b[1;31mKeyboardInterrupt\u001b[0m: "
     ]
    }
   ],
   "source": [
    "%%time\n",
    "print(shapes[0])\n",
    "print(points[0])\n",
    "with fiona.open(shapes[0], \"r\") as n: \n",
    "\n",
    "    with fiona.open(points[0], \"r\") as s:\n",
    "\n",
    "        # create a schema for the attributes\n",
    "        outSchema =  deepcopy(s.schema)\n",
    "        outSchema['properties'].update(n.schema['properties'])\n",
    "\n",
    "        with fiona.open (os.path.join(workPath, \"sale_latlong_Jan9_p1.shp\"), \"w\", s.driver, outSchema, s.crs) as output:\n",
    "\n",
    "            for school in s: \n",
    "                for neighborhood in n:\n",
    "                    # check if point is in polygon and set attribute\n",
    "                    if shape(school['geometry']).within(shape(neighborhood['geometry'])):  \n",
    "                        school['properties']['id'] = neighborhood['properties']['id']\n",
    "                    # write out\n",
    "                        output.write({                                 \n",
    "                            'properties': school['properties'], \n",
    "                            'geometry': school['geometry']\n",
    "                        })\n"
   ]
  },
  {
   "cell_type": "code",
   "execution_count": 6,
   "id": "1fd23466-165a-4890-b1c7-63f049e876a7",
   "metadata": {},
   "outputs": [
    {
     "ename": "SyntaxError",
     "evalue": "invalid syntax (<unknown>, line 11)",
     "output_type": "error",
     "traceback": [
      "Traceback \u001b[1;36m(most recent call last)\u001b[0m:\n",
      "  File \u001b[0;32m\"C:\\Users\\admin\\Anaconda3\\envs\\python37\\lib\\site-packages\\IPython\\core\\interactiveshell.py\"\u001b[0m, line \u001b[0;32m3457\u001b[0m, in \u001b[0;35mrun_code\u001b[0m\n    exec(code_obj, self.user_global_ns, self.user_ns)\n",
      "  File \u001b[0;32m\"C:\\Users\\admin\\AppData\\Local\\Temp\\ipykernel_1632\\3890688151.py\"\u001b[0m, line \u001b[0;32m1\u001b[0m, in \u001b[0;35m<module>\u001b[0m\n    get_ipython().run_cell_magic('time', '', 'print(shapes[1])\\nprint(points[0])\\nwith fiona.open(shapes[1], \"r\") as n: \\n\\n    with fiona.open(points[0], \"r\") as s:\\n\\n        # create a schema for the attributes\\n        outSchema =  deepcopy(s.schema)\\n        outSchema[\\'properties\\'].update(n.schema[\\'properties\\'])\\n\\n        with fiona.open (os.path.join(workPath, \"sale_latlong_Jan9_p2.shp\"), \"w\", s.driver, outSchema, s.crs)) as output:\\n\\n            for school in s: \\n                for neighborhood in n:\\n                    # check if point is in polygon and set attribute\\n                    if shape(school[\\'geometry\\']).within(shape(neighborhood[\\'geometry\\'])):  \\n                        school[\\'properties\\'][\\'id\\'] = neighborhood[\\'properties\\'][\\'id\\']\\n                    # write out\\n                        output.write({                                 \\n                            \\'properties\\': school[\\'properties\\'], \\n                            \\'geometry\\': school[\\'geometry\\']\\n                        })\\n')\n",
      "  File \u001b[0;32m\"C:\\Users\\admin\\Anaconda3\\envs\\python37\\lib\\site-packages\\IPython\\core\\interactiveshell.py\"\u001b[0m, line \u001b[0;32m2419\u001b[0m, in \u001b[0;35mrun_cell_magic\u001b[0m\n    result = fn(*args, **kwargs)\n",
      "  File \u001b[0;32m\"C:\\Users\\admin\\Anaconda3\\envs\\python37\\lib\\site-packages\\decorator.py\"\u001b[0m, line \u001b[0;32m232\u001b[0m, in \u001b[0;35mfun\u001b[0m\n    return caller(func, *(extras + args), **kw)\n",
      "  File \u001b[0;32m\"C:\\Users\\admin\\Anaconda3\\envs\\python37\\lib\\site-packages\\IPython\\core\\magic.py\"\u001b[0m, line \u001b[0;32m187\u001b[0m, in \u001b[0;35m<lambda>\u001b[0m\n    call = lambda f, *a, **k: f(*a, **k)\n",
      "  File \u001b[0;32m\"C:\\Users\\admin\\Anaconda3\\envs\\python37\\lib\\site-packages\\IPython\\core\\magics\\execution.py\"\u001b[0m, line \u001b[0;32m1291\u001b[0m, in \u001b[0;35mtime\u001b[0m\n    expr_ast = self.shell.compile.ast_parse(expr)\n",
      "\u001b[1;36m  File \u001b[1;32m\"C:\\Users\\admin\\Anaconda3\\envs\\python37\\lib\\site-packages\\IPython\\core\\compilerop.py\"\u001b[1;36m, line \u001b[1;32m101\u001b[1;36m, in \u001b[1;35mast_parse\u001b[1;36m\u001b[0m\n\u001b[1;33m    return compile(source, filename, symbol, self.flags | PyCF_ONLY_AST, 1)\u001b[0m\n",
      "\u001b[1;36m  File \u001b[1;32m\"<unknown>\"\u001b[1;36m, line \u001b[1;32m11\u001b[0m\n\u001b[1;33m    with fiona.open (os.path.join(workPath, \"sale_latlong_Jan9_p2.shp\"), \"w\", s.driver, outSchema, s.crs)) as output:\u001b[0m\n\u001b[1;37m                                                                                                         ^\u001b[0m\n\u001b[1;31mSyntaxError\u001b[0m\u001b[1;31m:\u001b[0m invalid syntax\n"
     ]
    }
   ],
   "source": [
    "%%time\n",
    "print(shapes[1])\n",
    "print(points[0])\n",
    "with fiona.open(shapes[1], \"r\") as n: \n",
    "\n",
    "    with fiona.open(points[0], \"r\") as s:\n",
    "\n",
    "        # create a schema for the attributes\n",
    "        outSchema =  deepcopy(s.schema)\n",
    "        outSchema['properties'].update(n.schema['properties'])\n",
    "\n",
    "        with fiona.open (os.path.join(workPath, \"sale_latlong_Jan9_p2.shp\"), \"w\", s.driver, outSchema, s.crs)) as output:\n",
    "\n",
    "            for school in s: \n",
    "                for neighborhood in n:\n",
    "                    # check if point is in polygon and set attribute\n",
    "                    if shape(school['geometry']).within(shape(neighborhood['geometry'])):  \n",
    "                        school['properties']['id'] = neighborhood['properties']['id']\n",
    "                    # write out\n",
    "                        output.write({                                 \n",
    "                            'properties': school['properties'], \n",
    "                            'geometry': school['geometry']\n",
    "                        })\n"
   ]
  },
  {
   "cell_type": "code",
   "execution_count": null,
   "id": "2e467fcb-4058-4a02-b9ce-5a7f5852c95e",
   "metadata": {},
   "outputs": [],
   "source": []
  }
 ],
 "metadata": {
  "kernelspec": {
   "display_name": "Python 3 (ipykernel)",
   "language": "python",
   "name": "python3"
  },
  "language_info": {
   "codemirror_mode": {
    "name": "ipython",
    "version": 3
   },
   "file_extension": ".py",
   "mimetype": "text/x-python",
   "name": "python",
   "nbconvert_exporter": "python",
   "pygments_lexer": "ipython3",
   "version": "3.7.15"
  }
 },
 "nbformat": 4,
 "nbformat_minor": 5
}
