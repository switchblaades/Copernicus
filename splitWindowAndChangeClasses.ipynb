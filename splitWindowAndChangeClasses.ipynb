{
 "cells": [
  {
   "cell_type": "code",
   "execution_count": 1,
   "id": "f0de5154-5cfa-4497-b465-6c9323b3afd3",
   "metadata": {},
   "outputs": [],
   "source": [
    "import rasterio\n",
    "import os\n",
    "from glob import glob\n",
    "import numpy.ma as ma\n",
    "import numpy as np\n",
    "import os\n",
    "from itertools import product\n",
    "from rasterio import windows\n",
    "from rasterio.windows import get_data_window"
   ]
  },
  {
   "cell_type": "code",
   "execution_count": 2,
   "id": "fb72d16f-8889-4fb1-9ae7-02a1d01e3a06",
   "metadata": {},
   "outputs": [
    {
     "data": {
      "text/plain": [
       "['E:\\\\workspace\\\\workWithRaster\\\\mergeClasses\\\\data\\\\GEE_15102019.tif',\n",
       " 'E:\\\\workspace\\\\workWithRaster\\\\mergeClasses\\\\data\\\\Ukraine_2018_cut_map_cor.tif',\n",
       " 'E:\\\\workspace\\\\workWithRaster\\\\mergeClasses\\\\data\\\\Ukraine_August2022_corr.tif',\n",
       " 'E:\\\\workspace\\\\workWithRaster\\\\mergeClasses\\\\data\\\\ukr_2020.tif',\n",
       " 'E:\\\\workspace\\\\workWithRaster\\\\mergeClasses\\\\data\\\\Ukr_October2021.tif']"
      ]
     },
     "execution_count": 2,
     "metadata": {},
     "output_type": "execute_result"
    }
   ],
   "source": [
    "pathToTiff = r'E:\\workspace\\workWithRaster\\mergeClasses\\data'\n",
    "tiffFile = glob(os.path.join(pathToTiff, '*.tif'))\n",
    "tiffFile\n"
   ]
  },
  {
   "cell_type": "code",
   "execution_count": 14,
   "id": "1e80d2c1-9646-4873-93a7-8a7970cc6b53",
   "metadata": {},
   "outputs": [
    {
     "name": "stdout",
     "output_type": "stream",
     "text": [
      "E:\\workspace\\workWithRaster\\mergeClasses\\data\\ukr_2020.tif\n",
      "Wall time: 2min 50s\n"
     ]
    }
   ],
   "source": [
    "%%time\n",
    "target = tiffFile[3]\n",
    "print(target)\n",
    "src_RP1 = rasterio.open(target)\n",
    "\n",
    "out_profile = src_RP1.profile.copy()\n",
    "dst = rasterio.open(r'LandCover2020.tif', 'w', **out_profile)\n",
    "\n",
    "for block_index, window in src_RP1.block_windows(1):\n",
    "    newArr = src_RP1.read(window=window, masked=True)\n",
    "    \n",
    "    newArr[(1 < newArr) & (newArr <= 9) | (15 <= newArr) & (newArr <= 17) | (21 == newArr)] = 2\n",
    "    \n",
    "    result_block = newArr\n",
    "    dst.write(result_block, window=window)\n",
    "\n",
    "src_RP1.close()\n",
    "dst.close()"
   ]
  },
  {
   "cell_type": "code",
   "execution_count": null,
   "id": "8eed186d-40e2-43b0-b2f7-a74781e9940c",
   "metadata": {},
   "outputs": [],
   "source": []
  }
 ],
 "metadata": {
  "kernelspec": {
   "display_name": "Python 3 (ipykernel)",
   "language": "python",
   "name": "python3"
  },
  "language_info": {
   "codemirror_mode": {
    "name": "ipython",
    "version": 3
   },
   "file_extension": ".py",
   "mimetype": "text/x-python",
   "name": "python",
   "nbconvert_exporter": "python",
   "pygments_lexer": "ipython3",
   "version": "3.7.15"
  },
  "toc-autonumbering": false
 },
 "nbformat": 4,
 "nbformat_minor": 5
}
